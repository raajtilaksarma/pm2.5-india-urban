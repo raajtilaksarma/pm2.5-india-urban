{
 "cells": [
  {
   "cell_type": "markdown",
   "metadata": {},
   "source": [
    "### Importing required packages"
   ]
  },
  {
   "cell_type": "code",
   "execution_count": 1,
   "metadata": {},
   "outputs": [],
   "source": [
    "import pycrs\n",
    "import netCDF4\n",
    "import pandas as pd\n",
    "import numpy as np\n",
    "import fiona\n",
    "import numpy.ma as ma\n",
    "import geopandas as gpd\n",
    "%matplotlib inline\n",
    "from rasterio.enums import Resampling\n",
    "from rasterio.plot import show\n",
    "from rasterio.plot import show_hist\n",
    "from rasterio.errors import WindowError\n",
    "from rasterio import features\n",
    "from rasterio.features import *\n",
    "from rasterio.mask import mask\n",
    "from rasterstats import zonal_stats\n",
    "from netCDF4 import Dataset\n",
    "from fiona.crs import from_epsg\n",
    "from geojson import FeatureCollection\n",
    "from shapely.geometry import Point, Polygon, box\n",
    "from rasterio.warp import calculate_default_transform"
   ]
  },
  {
   "cell_type": "markdown",
   "metadata": {},
   "source": [
    "### Read urban boundaries shape file"
   ]
  },
  {
   "cell_type": "code",
   "execution_count": 2,
   "metadata": {},
   "outputs": [],
   "source": [
    "gdf = gpd.read_file('grump-v1-urban-ext-polygons-rev01-shp/global_urban_extent_polygons_v1.01.shp')\n",
    "# The following numbers are the bounding box values.\n",
    "gdf_ind_urban = gdf.cx[67.587891:99.316406,3.337954:36.879621]\n",
    "# filter indian urban boundaries by country name\n",
    "gdf_ind_urban = gdf_ind_urban[gdf_ind_urban['Countryeng']=='India']\n",
    "gdf_ind_urban.to_file('out/ind_urban_boundary') # save indian urban boundary"
   ]
  },
  {
   "cell_type": "code",
   "execution_count": 3,
   "metadata": {},
   "outputs": [],
   "source": [
    "def getFeatures(gdf):\n",
    "    \"\"\"Function to parse features from GeoDataFrame in such a manner that rasterio wants them\"\"\"\n",
    "    import json\n",
    "    return [json.loads(gdf.to_json())['features'][0]['geometry']]"
   ]
  },
  {
   "cell_type": "markdown",
   "metadata": {},
   "source": [
    "### Filter out and save pm2.5 levels for India"
   ]
  },
  {
   "cell_type": "code",
   "execution_count": 4,
   "metadata": {},
   "outputs": [
    {
     "name": "stdout",
     "output_type": "stream",
     "text": [
      "Max val 9.96921e+36\n",
      "Min val 0.0\n",
      "{'init': 'epsg:4326'}\n",
      "{'init': 'epsg:4326'}\n",
      "[{'type': 'Polygon', 'coordinates': [[[99.316406, 3.337954], [99.316406, 36.879621], [67.587891, 36.879621], [67.587891, 3.337954], [99.316406, 3.337954]]]}]\n",
      "4326\n"
     ]
    }
   ],
   "source": [
    "with rasterio.open('new_file_pm25.nc') as src:\n",
    "    data = src.read()\n",
    "    print('Max val', np.nanmax(data))\n",
    "    print('Min val', np.nanmin(data))\n",
    "\n",
    "    print(src.crs.data)\n",
    "    \n",
    "    # WGS84 coordinates\n",
    "    minx, miny = 67.587891,3.337954\n",
    "    maxx, maxy = 99.316406, 36.879621\n",
    "    bbox = box(minx, miny, maxx, maxy)\n",
    "    geo = gpd.GeoDataFrame({'geometry': bbox}, index=[0], crs=from_epsg(4326))\n",
    "    geo = geo.to_crs(crs=src.crs.data)\n",
    "    print(geo.crs)\n",
    "    \n",
    "    coords = getFeatures(geo)\n",
    "    print(coords)\n",
    "\n",
    "    out_img, out_transform = mask(dataset=src, shapes=coords, crop=True)\n",
    "    out_meta = src.meta.copy()\n",
    "    epsg_code = 4326\n",
    "    print(epsg_code)\n",
    "    out_meta.update({\"driver\": \"GTiff\",\n",
    "                 \"height\": out_img.shape[1],\n",
    "                 \"width\": out_img.shape[2],\n",
    "                 \"transform\": out_transform,\n",
    "                 \"crs\": pycrs.parse.from_epsg_code(epsg_code).to_proj4()}\n",
    "                         )"
   ]
  },
  {
   "cell_type": "markdown",
   "metadata": {},
   "source": [
    "### Using zonal stats to find avg pixel value for urban boundaries"
   ]
  },
  {
   "cell_type": "code",
   "execution_count": 5,
   "metadata": {},
   "outputs": [
    {
     "data": {
      "image/png": "[encoded data removed]",
      "text/plain": [
       "<Figure size 432x288 with 1 Axes>"
      ]
     },
     "metadata": {
      "needs_background": "light"
     },
     "output_type": "display_data"
    },
    {
     "name": "stdout",
     "output_type": "stream",
     "text": [
      "There are 5 urban boundaries lost! Because some boundaries are too small for the pixel size of the raster!\n",
      "Therefore upsampling the raster!\n"
     ]
    }
   ],
   "source": [
    "with rasterio.open('out/pm25_india', \"w\", **out_meta) as dest:\n",
    "        dest.write(out_img)\n",
    "# Open the clipped raster file\n",
    "clipped = rasterio.open('pm25_india')\n",
    "\n",
    "# Uncomment to visualize in notebook\n",
    "show((clipped, 1), cmap='terrain')\n",
    "\n",
    "urban_stats = zonal_stats(\"ind_urban_boundary/ind_urban_boundary.shp\", \"pm25_india\",\n",
    "            stats=\"count min mean max median\", geojson_out=True)\n",
    "collection = FeatureCollection(urban_stats)\n",
    "gdf_urban_stats = gpd.GeoDataFrame.from_features(collection['features'])\n",
    "lost_urban = gdf_urban_stats[gdf_urban_stats['mean'].isna()].shape[0]\n",
    "print(f'There are {lost_urban} urban boundaries lost! Because some boundaries are too small for the pixel size of the raster!')\n",
    "\n",
    "print('Therefore upsampling the raster!')"
   ]
  },
  {
   "cell_type": "markdown",
   "metadata": {},
   "source": [
    "### Upsampling the raster and then using zonal stats"
   ]
  },
  {
   "cell_type": "code",
   "execution_count": 6,
   "metadata": {},
   "outputs": [
    {
     "name": "stdout",
     "output_type": "stream",
     "text": [
      "(336, 319)\n",
      "(1, 5040, 4785)\n",
      "Finally there are 5 urban boundaries lost! Because some boundaries are too small for the pixel size of the raster!\n",
      "Total 4028 urban boudaries with avg PM25 values \n"
     ]
    }
   ],
   "source": [
    "src =  rasterio.open(\"out/pm25_india\")\n",
    "print(src.shape)\n",
    "data = src.read(\n",
    "        out_shape=(src.height * 15, src.width * 15),\n",
    "        resampling=Resampling.bilinear\n",
    "    )\n",
    "print(data.shape)\n",
    "\n",
    "aff = src.transform\n",
    "\n",
    "newaff = Affine(aff.a / 15, aff.b, aff.c,\n",
    "                aff.d, aff.e / 15, aff.f)\n",
    "\n",
    "out_meta.update({'width':data.shape[2],'height':data.shape[1],'transform':newaff})\n",
    "with rasterio.open('pm25_india_upsampled', \"w\",**out_meta) as dest:\n",
    "        dest.write(data)\n",
    "\n",
    "urban_stats = zonal_stats(\"out/ind_urban_boundary/ind_urban_boundary.shp\", \"out/pm25_india_upsampled\",\n",
    "            stats=\"count min mean max median\", geojson_out=True)\n",
    "collection = FeatureCollection(urban_stats)\n",
    "gdf_urban_stats = gpd.GeoDataFrame.from_features(collection['features'])\n",
    "lost_urban = gdf_urban_stats[gdf_urban_stats['mean'].isna()].shape[0]\n",
    "print(f'Finally there are {lost_urban} urban boundaries lost! Because some boundaries are too small for the pixel size of the raster!')\n",
    "\n",
    "gdf_urban_stats = gdf_urban_stats[~gdf_urban_stats['mean'].isna()]\n",
    "print(f'Total {len(gdf_urban_stats)} urban boudaries with avg PM25 values ')"
   ]
  },
  {
   "cell_type": "markdown",
   "metadata": {},
   "source": [
    "### Plotting histogram and saving output"
   ]
  },
  {
   "cell_type": "code",
   "execution_count": 7,
   "metadata": {},
   "outputs": [
    {
     "name": "stderr",
     "output_type": "stream",
     "text": [
      "/home/rts/.local/lib/python3.6/site-packages/pandas/core/frame.py:4218: SettingWithCopyWarning: \n",
      "A value is trying to be set on a copy of a slice from a DataFrame\n",
      "\n",
      "See the caveats in the documentation: http://pandas.pydata.org/pandas-docs/stable/user_guide/indexing.html#returning-a-view-versus-a-copy\n",
      "  return super().rename(**kwargs)\n"
     ]
    },
    {
     "data": {
      "image/png": "[encoded data removed]",
      "text/plain": [
       "<Figure size 432x288 with 1 Axes>"
      ]
     },
     "metadata": {
      "needs_background": "light"
     },
     "output_type": "display_data"
    }
   ],
   "source": [
    "df = gdf_urban_stats[['URBID','mean']]\n",
    "df.rename(columns={'mean':'PM2.5'},inplace=True)\n",
    "df.to_csv('out/ind_urban_boundary_pm25.csv',index=False)\n",
    "ax = df['PM2.5'].hist()  \n",
    "fig = ax.get_figure()\n",
    "fig.savefig('out/pm25_india_histogram.pdf')"
   ]
  }
 ],
 "metadata": {
  "kernelspec": {
   "display_name": "Python 3",
   "language": "python",
   "name": "python3"
  },
  "language_info": {
   "codemirror_mode": {
    "name": "ipython",
    "version": 3
   },
   "file_extension": ".py",
   "mimetype": "text/x-python",
   "name": "python",
   "nbconvert_exporter": "python",
   "pygments_lexer": "ipython3",
   "version": "3.6.8"
  }
 },
 "nbformat": 4,
 "nbformat_minor": 2
}
